{
 "cells": [
  {
   "cell_type": "code",
   "execution_count": 1,
   "id": "86d8c3a7-b7ac-4a80-97be-4784dea92c30",
   "metadata": {},
   "outputs": [
    {
     "name": "stdout",
     "output_type": "stream",
     "text": [
      "Requirement already satisfied: ChromeDriverManager in c:\\users\\hellogeun\\appdata\\local\\programs\\python\\python38\\lib\\site-packages (0.0.1)\n",
      "Requirement already satisfied: requests in c:\\users\\hellogeun\\appdata\\local\\programs\\python\\python38\\lib\\site-packages (from ChromeDriverManager) (2.31.0)\n",
      "Requirement already satisfied: pypiwin32 in c:\\users\\hellogeun\\appdata\\local\\programs\\python\\python38\\lib\\site-packages (from ChromeDriverManager) (223)\n",
      "Requirement already satisfied: pywin32 in c:\\users\\hellogeun\\appdata\\local\\programs\\python\\python38\\lib\\site-packages (from ChromeDriverManager) (306)\n",
      "Requirement already satisfied: charset-normalizer<4,>=2 in c:\\users\\hellogeun\\appdata\\local\\programs\\python\\python38\\lib\\site-packages (from requests->ChromeDriverManager) (3.3.0)\n",
      "Requirement already satisfied: idna<4,>=2.5 in c:\\users\\hellogeun\\appdata\\local\\programs\\python\\python38\\lib\\site-packages (from requests->ChromeDriverManager) (3.4)\n",
      "Requirement already satisfied: urllib3<3,>=1.21.1 in c:\\users\\hellogeun\\appdata\\local\\programs\\python\\python38\\lib\\site-packages (from requests->ChromeDriverManager) (2.0.6)\n",
      "Requirement already satisfied: certifi>=2017.4.17 in c:\\users\\hellogeun\\appdata\\local\\programs\\python\\python38\\lib\\site-packages (from requests->ChromeDriverManager) (2023.7.22)\n"
     ]
    },
    {
     "name": "stderr",
     "output_type": "stream",
     "text": [
      "\n",
      "[notice] A new release of pip is available: 23.2.1 -> 23.3\n",
      "[notice] To update, run: python.exe -m pip install --upgrade pip\n"
     ]
    }
   ],
   "source": [
    "! pip install ChromeDriverManager"
   ]
  }
 ],
 "metadata": {
  "kernelspec": {
   "display_name": "Python 3 (ipykernel)",
   "language": "python",
   "name": "python3"
  },
  "language_info": {
   "codemirror_mode": {
    "name": "ipython",
    "version": 3
   },
   "file_extension": ".py",
   "mimetype": "text/x-python",
   "name": "python",
   "nbconvert_exporter": "python",
   "pygments_lexer": "ipython3",
   "version": "3.8.5"
  }
 },
 "nbformat": 4,
 "nbformat_minor": 5
}
