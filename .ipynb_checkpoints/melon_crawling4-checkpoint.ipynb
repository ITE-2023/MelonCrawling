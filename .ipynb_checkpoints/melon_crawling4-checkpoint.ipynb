{
 "cells": [
  {
   "cell_type": "code",
   "execution_count": 30,
   "id": "9cc736fd-2acb-4282-b993-5273b2ab3154",
   "metadata": {},
   "outputs": [],
   "source": [
    "from selenium import webdriver \n",
    "from bs4 import BeautifulSoup\n",
    "import pandas as pd\n",
    "from webdriver_manager.chrome import ChromeDriverManager\n",
    "from selenium.webdriver.common.by import By\n",
    "from selenium.webdriver.chrome.service import Service\n",
    "import re\n",
    "import time"
   ]
  },
  {
   "cell_type": "code",
   "execution_count": 31,
   "id": "8617c9fb-6b4d-4df4-9795-4def9e1d0afc",
   "metadata": {},
   "outputs": [],
   "source": [
    "#크롬 옵션 지정\n",
    "options = webdriver.ChromeOptions()\n",
    "#헤드리스 옵션 지정\n",
    "options.add_argument('--headless')"
   ]
  },
  {
   "cell_type": "code",
   "execution_count": 32,
   "id": "ceffcde6-8253-4fbb-96f3-939b0e13255a",
   "metadata": {},
   "outputs": [],
   "source": [
    "#크로링 막는 것을 피하기 위해 에이전트 입력(로봇X)\n",
    "UserAgent = 'Mozilla/5.0 (Windows NT 10.0; Win64; x64) AppleWebKit/537.36 (KHTML, like Gecko) Chrome/117.0.0.0 Safari/537.36'\n",
    "options.add_argument('user-agent=' + UserAgent)"
   ]
  },
  {
   "cell_type": "code",
   "execution_count": 33,
   "id": "989c4e92-56b5-4650-9982-f6c8798864b1",
   "metadata": {},
   "outputs": [],
   "source": [
    "#드라이브 설정 (자동 다운로드 및 대기)\n",
    "driver = webdriver.Chrome(service = Service(ChromeDriverManager().install()), options=options)\n",
    "driver.implicitly_wait(5)"
   ]
  },
  {
   "cell_type": "code",
   "execution_count": 36,
   "id": "b5bdd8fa-0dfb-4d94-9672-00c141408f8d",
   "metadata": {},
   "outputs": [],
   "source": [
    "\n",
    "driver.get(url='https://www.melon.com/dj/djfinder/djfinder_inform.htm?djSearchType=T&djSearchKeyword=깜놀주의') #슬픔\n",
    "\n",
    "#가장 인기있는 첫번째 플레이리스트 클릭\n",
    "driver.find_element(By.XPATH, '//*[@id=\"djPlylstList\"]/div/ul/li[1]/div[2]/div[1]/a[2]').click()\n",
    "time.sleep(2)\n",
    "\n",
    "#BS\n",
    "html = driver.page_source\n",
    "soup = BeautifulSoup(html, 'html.parser')\n",
    "\n",
    "songs = soup.select('tbody > tr')\n",
    "songIdList = [] #가사ID\n",
    "rankList = [] #순위\n",
    "titleList = [] #제목\n",
    "artistList = [] #가수\n",
    "imageUrlList = [] #앨범 이미\n",
    "\n",
    "for song in songs:\n",
    "    rank = song.select_one('span.rank').text\n",
    "    title = song.select_one('div.ellipsis.rank01').text.strip().replace('\\n', '') #strip() 양쪽 빈칸 없앰 #replace \\n ->''으로 대체\n",
    "    artist = song.select_one('div.ellipsis.rank02 > span').text.strip().replace('\\n', '')\n",
    "    image = song.select_one('a.image_typeAll > img')\n",
    "    imageUrl = image.attrs['src']\n",
    "    rankList.append(rank)\n",
    "    titleList.append(title)\n",
    "    artistList.append(artist)\n",
    "    imageUrlList.append(imageUrl)\n",
    "    \n",
    "    #가사ID\n",
    "    song_Tag = song.select_one('a.btn.button_icons.type03.song_info')\n",
    "    href = song_Tag.attrs['href']\n",
    "    songIdList.append(re.sub(r'[^0-9]', '', str(href)))\n",
    "        \n",
    "lyrics = [] #가사\n",
    "for id in songIdList:\n",
    "    try:\n",
    "        driver.get('https://www.melon.com/song/detail.htm?songId=' + id)\n",
    "        time.sleep(2)\n",
    "        lyric = driver.find_element(By.CLASS_NAME, 'lyric')\n",
    "        lyrics.append(lyric.text.replace('\\n', ''))\n",
    "    except:\n",
    "        #가사가 없는 겨우\n",
    "        lyrics.append('')\n",
    "        continue\n",
    "            \n",
    "#엑셀로 출력\n",
    "df = pd.DataFrame({'순위': rankList, '제목': titleList, '가수': artistList,'앨범이미지':imageUrlList, '가사': lyrics})\n",
    "df.to_excel('surprised.xlsx', sheet_name = 'surprised' , index = False)"
   ]
  }
 ],
 "metadata": {
  "kernelspec": {
   "display_name": "Python 3 (ipykernel)",
   "language": "python",
   "name": "python3"
  },
  "language_info": {
   "codemirror_mode": {
    "name": "ipython",
    "version": 3
   },
   "file_extension": ".py",
   "mimetype": "text/x-python",
   "name": "python",
   "nbconvert_exporter": "python",
   "pygments_lexer": "ipython3",
   "version": "3.8.5"
  }
 },
 "nbformat": 4,
 "nbformat_minor": 5
}
