{
 "cells": [
  {
   "cell_type": "code",
   "execution_count": 1,
   "id": "280552fd-0482-4975-8158-b96e981c22dc",
   "metadata": {},
   "outputs": [
    {
     "name": "stdout",
     "output_type": "stream",
     "text": [
      "Requirement already satisfied: ChromeDriverManager in c:\\users\\hellogeun\\appdata\\local\\programs\\python\\python38\\lib\\site-packages (0.0.1)\n",
      "Requirement already satisfied: requests in c:\\users\\hellogeun\\appdata\\local\\programs\\python\\python38\\lib\\site-packages (from ChromeDriverManager) (2.31.0)\n",
      "Requirement already satisfied: pypiwin32 in c:\\users\\hellogeun\\appdata\\local\\programs\\python\\python38\\lib\\site-packages (from ChromeDriverManager) (223)\n",
      "Requirement already satisfied: pywin32 in c:\\users\\hellogeun\\appdata\\local\\programs\\python\\python38\\lib\\site-packages (from ChromeDriverManager) (306)\n",
      "Requirement already satisfied: charset-normalizer<4,>=2 in c:\\users\\hellogeun\\appdata\\local\\programs\\python\\python38\\lib\\site-packages (from requests->ChromeDriverManager) (3.3.0)\n",
      "Requirement already satisfied: idna<4,>=2.5 in c:\\users\\hellogeun\\appdata\\local\\programs\\python\\python38\\lib\\site-packages (from requests->ChromeDriverManager) (3.4)\n",
      "Requirement already satisfied: urllib3<3,>=1.21.1 in c:\\users\\hellogeun\\appdata\\local\\programs\\python\\python38\\lib\\site-packages (from requests->ChromeDriverManager) (2.0.6)\n",
      "Requirement already satisfied: certifi>=2017.4.17 in c:\\users\\hellogeun\\appdata\\local\\programs\\python\\python38\\lib\\site-packages (from requests->ChromeDriverManager) (2023.7.22)\n"
     ]
    },
    {
     "name": "stderr",
     "output_type": "stream",
     "text": [
      "\n",
      "[notice] A new release of pip is available: 23.2.1 -> 23.3\n",
      "[notice] To update, run: python.exe -m pip install --upgrade pip\n"
     ]
    }
   ],
   "source": [
    "! pip install ChromeDriverManager"
   ]
  },
  {
   "cell_type": "code",
   "execution_count": 2,
   "id": "6f3c26db-53b2-4d4b-9251-0d697b08577b",
   "metadata": {},
   "outputs": [],
   "source": [
    "from selenium import webdriver \n",
    "from bs4 import BeautifulSoup\n",
    "import pandas as pd\n",
    "from webdriver_manager.chrome import ChromeDriverManager\n",
    "from selenium.webdriver.common.by import By\n",
    "from selenium.webdriver.chrome.service import Service\n",
    "import re\n",
    "import time"
   ]
  },
  {
   "cell_type": "code",
   "execution_count": 3,
   "id": "60c15084-e6f2-488c-847f-bd2781e063fe",
   "metadata": {},
   "outputs": [],
   "source": [
    "#크롬 옵션 지정\n",
    "options = webdriver.ChromeOptions()\n",
    "#헤드리스 옵션 지정\n",
    "options.add_argument('--headless')"
   ]
  },
  {
   "cell_type": "code",
   "execution_count": 4,
   "id": "98208d71-64bb-4beb-9a91-58b0b7dd90df",
   "metadata": {},
   "outputs": [],
   "source": [
    "#크로링 막는 것을 피하기 위해 에이전트 입력(로봇X)\n",
    "UserAgent = 'Mozilla/5.0 (Windows NT 10.0; Win64; x64) AppleWebKit/537.36 (KHTML, like Gecko) Chrome/117.0.0.0 Safari/537.36'\n",
    "options.add_argument('user-agent=' + UserAgent)"
   ]
  },
  {
   "cell_type": "code",
   "execution_count": 5,
   "id": "a5c44d1d-067a-4aca-b38d-b2e5e94ee7f4",
   "metadata": {},
   "outputs": [],
   "source": [
    "#드라이브 설정 (자동 다운로드 및 대기)\n",
    "driver = webdriver.Chrome(service = Service(ChromeDriverManager().install()), options=options)\n",
    "driver.implicitly_wait(5)\n",
    "\n",
    "driver.get(url='https://www.melon.com/chart/age/index.htm?chartType=YE&chartGenre=KPOP&chartDate=1990') #1990년대 시작\n"
   ]
  },
  {
   "cell_type": "code",
   "execution_count": 6,
   "id": "562add4c-341b-46fe-8560-dcf4e7e36208",
   "metadata": {
    "scrolled": true
   },
   "outputs": [],
   "source": [
    "\n",
    "driver.find_element(By.XPATH, '//*[@id=\"cntt_chart_year\"]/div/div[1]/div[1]/span/a/img').click() #차트보기 클릭\n",
    "time.sleep(2)\n",
    "\n",
    "#BS\n",
    "html = driver.page_source\n",
    "soup = BeautifulSoup(html, 'html.parser')\n",
    "\n",
    "# 'tbody > tr'의 경우 123개 출력이 되므로 분리\n",
    "song1 = soup.select('tbody > tr.lst50 ') # 1-50\n",
    "song2 = soup.select('tbody > tr.lst100 ') # 51-100\n",
    "\n",
    "songIdList_1 = []\n",
    "songIdList_2 = []\n",
    "\n",
    "rank_1 = []\n",
    "rank_2 = []\n",
    "\n",
    "title_1 = []\n",
    "title_2 = []\n",
    "\n",
    "artist_1 = []\n",
    "artist_2 = []\n",
    "\n",
    "cnt = 1\n",
    "\n",
    "for song in song1:\n",
    "    # 1-3위까지 rank의 class 이름이 rank top\n",
    "    if cnt < 4:\n",
    "        rank = song.select_one('span.rank.top').text\n",
    "        rank_1.append(rank)\n",
    "        cnt = cnt + 1\n",
    "    else:\n",
    "        rank = song.select_one('span.rank').text\n",
    "        rank_1.append(rank)\n",
    "    title = song.select_one('div.ellipsis.rank01').text.strip().replace('\\n', '') #strip() 양쪽 빈칸 없앰 #replace \\n ->''으로 대체\n",
    "    title_1.append(title)\n",
    "    artist = song.select_one('div.ellipsis.rank02 > span').text.strip().replace('\\n', '') #'div.ellipsis.rank02 > a'의 경우 artist가 없는 경우 에러\n",
    "    artist_1.append(artist)\n",
    "    \n",
    "    #가사 Id 가져오기\n",
    "    song_Tag = song.select_one('a.btn.btn_icon_detail')\n",
    "    songIdList_1.append(re.sub(r'[^0-9]', '', str(song_Tag)))\n",
    "\n",
    "for song in song2:\n",
    "    rank = song.select_one('span.rank').text\n",
    "    rank_2.append(rank)\n",
    "    title = song.select_one('div.ellipsis.rank01').text.strip().replace('\\n', '') #strip() 양쪽 빈칸 없앰 #replace \\n ->''으로 대체\n",
    "    title_2.append(title)\n",
    "    artist = song.select_one('div.ellipsis.rank02 > span').text.strip().replace('\\n', '')\n",
    "    artist_2.append(artist)\n",
    "    \n",
    "    #가사 Id 가져오기\n",
    "    song_Tag = song.select_one('a.btn.btn_icon_detail')\n",
    "    songIdList_2.append(re.sub(r'[^0-9]', '', str(song_Tag)))\n"
   ]
  },
  {
   "cell_type": "code",
   "execution_count": 7,
   "id": "5ed2a4b0-7cbb-43b9-a5ef-600a273ae689",
   "metadata": {
    "scrolled": true
   },
   "outputs": [],
   "source": [
    "#순위\n",
    "rankList = rank_1 + rank_2\n",
    "#제목\n",
    "titleList = title_1 + title_2\n",
    "#가수\n",
    "artistList = artist_1 + artist_2\n",
    "#가사 \n",
    "songIdList = songIdList_1 + songIdList_2 #100개\n",
    "lyrics = []\n",
    "\n",
    "for id in songIdList:\n",
    "    try:\n",
    "        driver.get('https://www.melon.com/song/detail.htm?songId=' + id)\n",
    "        time.sleep(2)\n",
    "        lyric = driver.find_element(By.CLASS_NAME, 'lyric')\n",
    "        lyrics.append(lyric.text.replace('\\n', ''))\n",
    "    except:\n",
    "        #가사가 없는 겨우\n",
    "        lyrics.append('')\n",
    "        continue"
   ]
  },
  {
   "cell_type": "code",
   "execution_count": 8,
   "id": "966422e9-c9a8-443a-9124-49531000063f",
   "metadata": {},
   "outputs": [],
   "source": [
    "#엑셀로 출력\n",
    "\n",
    "df = pd.DataFrame({'순위': rankList, '제목': titleList, '가수': artistList, '가사': lyrics})\n",
    "\n",
    "df.to_excel('1990.xlsx', sheet_name = '1990')\n"
   ]
  }
 ],
 "metadata": {
  "kernelspec": {
   "display_name": "Python 3 (ipykernel)",
   "language": "python",
   "name": "python3"
  },
  "language_info": {
   "codemirror_mode": {
    "name": "ipython",
    "version": 3
   },
   "file_extension": ".py",
   "mimetype": "text/x-python",
   "name": "python",
   "nbconvert_exporter": "python",
   "pygments_lexer": "ipython3",
   "version": "3.8.5"
  }
 },
 "nbformat": 4,
 "nbformat_minor": 5
}
